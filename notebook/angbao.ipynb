{
 "cells": [
  {
   "cell_type": "markdown",
   "metadata": {},
   "source": [
    "This notebook intends to serve as the basis for LIneA doc TE 001"
   ]
  },
  {
   "cell_type": "code",
   "execution_count": 1,
   "metadata": {},
   "outputs": [],
   "source": [
    "%matplotlib inline\n",
    "import pandas, numpy\n",
    "from scipy.linalg import block_diag"
   ]
  },
  {
   "cell_type": "markdown",
   "metadata": {},
   "source": [
    "# Input data\n",
    "\n",
    "CSV files to be easily loaded as a MultiIndex Pandas.DataFrame"
   ]
  },
  {
   "cell_type": "markdown",
   "metadata": {},
   "source": [
    "1. Measurements"
   ]
  },
  {
   "cell_type": "code",
   "execution_count": 9,
   "metadata": {},
   "outputs": [
    {
     "name": "stdout",
     "output_type": "stream",
     "text": [
      "Shape: (30, 7204)\n",
      "Data header:  zbin      zp0607                                                             \\\n",
      "data       mock0     mock1    mock2     mock3     mock4     mock5     mock6   \n",
      "elleff                                                                        \n",
      "8.0     0.000014  0.000106  0.00006  0.000033  0.000116  0.000047  0.000034   \n",
      "\n",
      "zbin                                  ...      zp0910                      \\\n",
      "data       mock7     mock8    mock9   ...    mock1791  mock1792  mock1793   \n",
      "elleff                                ...                                   \n",
      "8.0     0.000024  0.000048  0.00004   ...     0.00001  0.000029  0.000026   \n",
      "\n",
      "zbin                                                                       \n",
      "data    mock1794 mock1795 mock1796  mock1797  mock1798  mock1799       y1  \n",
      "elleff                                                                     \n",
      "8.0     0.000024  0.00003  0.00001  0.000018  0.000018  0.000011  0.00006  \n",
      "\n",
      "[1 rows x 7204 columns]\n"
     ]
    }
   ],
   "source": [
    "cldf = pandas.read_csv(\"../dat/apsmeasurements_nside1024_dl15lmin0lmax450.csv.gz\", header=[0,1], index_col=0)\n",
    "print(\"Shape:\", cldf.shape)\n",
    "print(\"Data header: \", cldf.head(1))"
   ]
  },
  {
   "cell_type": "markdown",
   "metadata": {},
   "source": [
    "2. Covariance (optional)"
   ]
  },
  {
   "cell_type": "code",
   "execution_count": 12,
   "metadata": {},
   "outputs": [
    {
     "name": "stdout",
     "output_type": "stream",
     "text": [
      "Shape: (120, 120)\n"
     ]
    }
   ],
   "source": [
    "covdf = pandas.read_csv(\"../dat/apscov_analytical_rsdnl_dl15lmin0lmax450.csv.gz\", header=None, index_col=None)\n",
    "print(\"Shape:\", covdf.shape)"
   ]
  },
  {
   "cell_type": "markdown",
   "metadata": {},
   "source": [
    "3. Templates"
   ]
  },
  {
   "cell_type": "code",
   "execution_count": 29,
   "metadata": {},
   "outputs": [
    {
     "name": "stdout",
     "output_type": "stream",
     "text": [
      "Shape: (1025, 8)\n",
      "Data header:  type        wg                                      nw                      \\\n",
      "zbin    zp0607    zp0708    zp0809    zp0910    zp0607    zp0708    zp0809   \n",
      "ell                                                                          \n",
      "0.0   0.000072  0.000041  0.000031  0.000027  0.000073  0.000042  0.000031   \n",
      "\n",
      "type            \n",
      "zbin    zp0910  \n",
      "ell             \n",
      "0.0   0.000028  \n"
     ]
    }
   ],
   "source": [
    "tpdf = pandas.read_csv(\"../dat/apstemplates_mc_rsd.csv.gz\", header=[0,1], index_col=0)\n",
    "print(\"Shape:\", tpdf.shape)\n",
    "print(\"Data header: \", tpdf.head(1))"
   ]
  }
 ],
 "metadata": {
  "kernelspec": {
   "display_name": "Python 3",
   "language": "python",
   "name": "python3"
  },
  "language_info": {
   "codemirror_mode": {
    "name": "ipython",
    "version": 3
   },
   "file_extension": ".py",
   "mimetype": "text/x-python",
   "name": "python",
   "nbconvert_exporter": "python",
   "pygments_lexer": "ipython3",
   "version": "3.4.2"
  }
 },
 "nbformat": 4,
 "nbformat_minor": 2
}
